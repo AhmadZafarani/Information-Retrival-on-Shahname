{
  "nbformat": 4,
  "nbformat_minor": 0,
  "metadata": {
    "colab": {
      "name": "Fasttext.ipynb",
      "provenance": []
    },
    "kernelspec": {
      "name": "python3",
      "display_name": "Python 3"
    },
    "language_info": {
      "name": "python"
    }
  },
  "cells": [
    {
      "cell_type": "code",
      "source": [
        "from sklearn.feature_extraction.text import CountVectorizer\n",
        "from tqdm import tqdm\n",
        "from numpy import dot\n",
        "from numpy.linalg import norm\n",
        "from sklearn.feature_extraction.text import TfidfVectorizer\n",
        "from sentence_transformers import SentenceTransformer\n",
        "from tqdm import tqdm\n",
        "import numpy as np\n",
        "import random\n",
        "from hazm import *\n",
        "from sentence_transformers import SentenceTransformer, InputExample, losses\n",
        "from torch.utils.data import DataLoader\n",
        "import torch\n",
        "from gensim.models.keyedvectors import KeyedVectors\n",
        "import numpy as np"
      ],
      "metadata": {
        "id": "PpjQ6n0HtSWL"
      },
      "execution_count": null,
      "outputs": []
    },
    {
      "cell_type": "code",
      "source": [
        "class FastText:\n",
        "  def __init__(self, word_vectors, a1 , weight_type = 'simple', dims=100):\n",
        "    self.weight_type = weight_type\n",
        "    self.docs = a1\n",
        "    self.dims = dims\n",
        "    self.word_vectors = word_vectors\n",
        "    self.vectorizer = TfidfVectorizer(use_idf = True, norm ='l1', ngram_range=(1,1), analyzer='word')\n",
        "    self.vectorizer.fit_transform(self.docs)\n",
        "    self.strings = []\n",
        "    string = ''\n",
        "    for item in self.vectorizer.get_feature_names():\n",
        "      string += item\n",
        "      string += ' '\n",
        "      self.strings.append(item)\n",
        "    self.vector = self.vectorizer.transform([string])\n",
        "    self.vector = self.vector.toarray()\n",
        "    print('vectorizer sum = ', sum(self.vector))\n",
        "    # print(self.vector)\n",
        "    # print(self.vector[0])\n",
        "  \n",
        "  def get_fasttext_average_tf_idf_wights(self,mesra):\n",
        "    vector_sum = np.zeros(self.dims)\n",
        "    words = mesra.split(' ')\n",
        "    try:\n",
        "      for word in words:\n",
        "        index = self.strings.index(word)\n",
        "        vector_sum += self.word_vectors[word] * self.vector[0][index]\n",
        "    except Exception as e:\n",
        "      pass\n",
        "      # print(e.args[0])\n",
        "    return vector_sum\n",
        "  \n",
        "  def get_fastext_average(self,mesra):\n",
        "    counter = 0\n",
        "    vector_sum = np.zeros(self.dims)\n",
        "    words = mesra.split(' ')\n",
        "    for word in words:\n",
        "      try:\n",
        "        vector_sum += self.word_vectors[word]\n",
        "        counter += 1\n",
        "      except:\n",
        "        continue\n",
        "      vector_sum =/ counter\n",
        "    return vector_sum\n",
        "\n",
        "  def get_fasttext(self, mesra):\n",
        "    if self.weight_type == 'tfidf':\n",
        "      return self.get_fasttext_average_tf_idf_wights(mesra)\n",
        "    elif self.weight_type == 'simple':\n",
        "      return self.get_fastext_average(mesra)\n",
        "\n",
        "  def forward(self,query):\n",
        "    ten_tokens = [0] * k\n",
        "    ten_scores = [-100] * k\n",
        "    vocab_error = 0\n",
        "    b  = self.get_fasttext(query)\n",
        "\n",
        "    for item in tqdm(self.docs):\n",
        "      try:\n",
        "        c  = self.get_fasttext(item)\n",
        "        if (norm(c)*norm(b)) != 0:\n",
        "          cos_sim = dot(c, b)/(norm(c)*norm(b))\n",
        "          if cos_sim != 0:\n",
        "            for i in range(k):\n",
        "              if ten_scores[i] < cos_sim:\n",
        "                ten_scores[i] = cos_sim\n",
        "                ten_tokens[i] = item\n",
        "                break\n",
        "      except Exception as e:\n",
        "        vocab_error += 1\n",
        "        continue\n",
        "\n",
        "    for i in range(len(ten_scores)):\n",
        "      for j in range(len(ten_scores)):\n",
        "        if ten_scores[i] > ten_scores[j]:\n",
        "           ten_scores[i], ten_scores[j] = ten_scores[j], ten_scores[i]\n",
        "           ten_tokens[i], ten_tokens[j] = ten_tokens[j], ten_tokens[i]\n",
        "\n",
        "    return vocab_error, ten_tokens, ten_scores"
      ],
      "metadata": {
        "id": "jMmD2qhHarxt"
      },
      "execution_count": null,
      "outputs": []
    },
    {
      "cell_type": "code",
      "source": [
        "word_vectors = KeyedVectors.load_word2vec_format('vec_file.vec')\n",
        "with open('sen_v2.txt', 'r') as f:\n",
        "  sen_v2 = f.read()\n",
        "sen_v2 = sen_v2.split('\\n')\n",
        "fasttext1_2 = FastText(word_vectors, sen_v2, 'simple')\n",
        "words_not_found, beyts, scores = fasttext1_2.forward('کزین برتر')\n"
      ],
      "metadata": {
        "id": "5KaNG0WxTCYF"
      },
      "execution_count": null,
      "outputs": []
    }
  ]
}