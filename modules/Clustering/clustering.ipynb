{
  "nbformat": 4,
  "nbformat_minor": 0,
  "metadata": {
    "colab": {
      "name": "Clustering.ipynb",
      "provenance": []
    },
    "kernelspec": {
      "name": "python3",
      "display_name": "Python 3"
    },
    "language_info": {
      "name": "python"
    }
  },
  "cells": [
    {
      "cell_type": "code",
      "source": [
        "from numpy import dot\n",
        "from numpy.linalg import norm\n",
        "import numpy as np\n",
        "from gensim.models.keyedvectors import KeyedVectors\n",
        "\n",
        "\n",
        "\n",
        "def get_fastext_average(mesra):\n",
        "  vector_sum = np.zeros(200)\n",
        "  num = 0\n",
        "  words = mesra.split(' ')\n",
        "  for word in words:\n",
        "    try:    \n",
        "      vector_sum += word_vectors[word]\n",
        "      num += 1\n",
        "    except:\n",
        "      continue\n",
        "\n",
        "  return vector_sum / num\n",
        "\n",
        "\n",
        "\n",
        "def get_cluster_number_for_query(query):\n",
        "  centers = np.loadtxt('cluster_centers.txt', dtype=float)\n",
        "  word_vectors = KeyedVectors.load_word2vec_format('vec_file.vec')\n",
        "  embedded_query = get_fastext_average(query)\n",
        "  max_similarity = -1\n",
        "  final_center = -1\n",
        "  for i in range(len(centers)):\n",
        "    center = centers[i]\n",
        "    similarity = dot(embedded_query, center)/(norm(center)*norm(embedded_query))\n",
        "    if similarity > max_similarity:\n",
        "      max_similarity = similarity\n",
        "      final_center = i\n",
        "  return final_center"
      ],
      "metadata": {
        "id": "AQDgJe55fpPS"
      },
      "execution_count": null,
      "outputs": []
    }
  ]
}